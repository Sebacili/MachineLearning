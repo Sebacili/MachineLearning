{
  "nbformat": 4,
  "nbformat_minor": 0,
  "metadata": {
    "colab": {
      "provenance": []
    },
    "kernelspec": {
      "name": "python3",
      "display_name": "Python 3"
    },
    "language_info": {
      "name": "python"
    }
  },
  "cells": [
    {
      "cell_type": "code",
      "execution_count": 9,
      "metadata": {
        "colab": {
          "base_uri": "https://localhost:8080/"
        },
        "id": "3bc4aRLv9Vdz",
        "outputId": "c8e939c7-5fd8-4295-c702-8a503405a22e"
      },
      "outputs": [
        {
          "output_type": "stream",
          "name": "stdout",
          "text": [
            "Drive already mounted at /content/drive; to attempt to forcibly remount, call drive.mount(\"/content/drive\", force_remount=True).\n"
          ]
        }
      ],
      "source": [
        "from google.colab import drive\n",
        "drive.mount('/content/drive')"
      ]
    },
    {
      "cell_type": "code",
      "source": [
        "import pandas as pd \n",
        "\n",
        "df = pd.read_csv('/content/drive/MyDrive/Colab Notebooks/ML 101.1-20230219T101028Z-001 (2)/ML 101.1/titanic.csv')\n",
        "#  names = [] serve per sostituire tutti i nomi delle colonne \n",
        "df = pd.read_csv(\"/content/drive/MyDrive/Colab Notebooks/ML 101.1-20230219T101028Z-001 (2)/ML 101.1/car (2).data\", names = [\"buying\", \"maint\", \"doors\", \"persons\", \"lug_boot\", \"safety\", \"class values\"])\n",
        "# skiprows=[0] serve per saltare una o piu row specifiche, in questo caso usato per saltare la prima riga poiche i nomi delle colonne nel file erano nella seconda\n",
        "df = pd.read_excel('/content/drive/MyDrive/Colab Notebooks/ML 101.1-20230219T101028Z-001 (2)/ML 101.1/default of credit card clients (1).xls', skiprows=[0])"
      ],
      "metadata": {
        "id": "9q4_HJge_nrW"
      },
      "execution_count": 14,
      "outputs": []
    },
    {
      "cell_type": "code",
      "source": [
        "display(df.dtypes) # mostra data types utile per trovare anomalie nelle colonne e dropparle"
      ],
      "metadata": {
        "colab": {
          "base_uri": "https://localhost:8080/",
          "height": 468
        },
        "id": "NkoCl5qNAFFa",
        "outputId": "51bda897-a02e-4872-efbb-2d002c92979a"
      },
      "execution_count": 15,
      "outputs": [
        {
          "output_type": "display_data",
          "data": {
            "text/plain": [
              "ID                            int64\n",
              "LIMIT_BAL                     int64\n",
              "SEX                           int64\n",
              "EDUCATION                     int64\n",
              "MARRIAGE                      int64\n",
              "AGE                           int64\n",
              "PAY_0                         int64\n",
              "PAY_2                         int64\n",
              "PAY_3                         int64\n",
              "PAY_4                         int64\n",
              "PAY_5                         int64\n",
              "PAY_6                         int64\n",
              "BILL_AMT1                     int64\n",
              "BILL_AMT2                     int64\n",
              "BILL_AMT3                     int64\n",
              "BILL_AMT4                     int64\n",
              "BILL_AMT5                     int64\n",
              "BILL_AMT6                     int64\n",
              "PAY_AMT1                      int64\n",
              "PAY_AMT2                      int64\n",
              "PAY_AMT3                      int64\n",
              "PAY_AMT4                      int64\n",
              "PAY_AMT5                      int64\n",
              "PAY_AMT6                      int64\n",
              "default payment next month    int64\n",
              "dtype: object"
            ]
          },
          "metadata": {}
        }
      ]
    },
    {
      "cell_type": "code",
      "source": [
        "# change the order of the columns: ( per convenienza, utilizzare se il target column e nel mezzo del df)\n",
        "df = df.reindex(columns=['Age', 'Name'])\n",
        "#probabilmente appaiono valori NaN"
      ],
      "metadata": {
        "id": "bhV3LEbrAMR6"
      },
      "execution_count": 16,
      "outputs": []
    },
    {
      "cell_type": "code",
      "source": [
        "# output:\n",
        "# index  Gender  Age         City     Name\n",
        "#   0    Female   25     New York    Alice\n",
        "#   1      Male   30      Chicago      Bob\n",
        "#   2      Male   35  Los Angeles  Charlie\n",
        "\n"
      ],
      "metadata": {
        "id": "sZXZkluDA2RS"
      },
      "execution_count": 5,
      "outputs": []
    },
    {
      "cell_type": "code",
      "source": [
        "df"
      ],
      "metadata": {
        "colab": {
          "base_uri": "https://localhost:8080/",
          "height": 423
        },
        "id": "bSo03uQkA_CS",
        "outputId": "1cd0db9f-25d3-400b-ab5e-b6a0e7d46252"
      },
      "execution_count": 17,
      "outputs": [
        {
          "output_type": "execute_result",
          "data": {
            "text/plain": [
              "       Age  Name\n",
              "0      NaN   NaN\n",
              "1      NaN   NaN\n",
              "2      NaN   NaN\n",
              "3      NaN   NaN\n",
              "4      NaN   NaN\n",
              "...    ...   ...\n",
              "29995  NaN   NaN\n",
              "29996  NaN   NaN\n",
              "29997  NaN   NaN\n",
              "29998  NaN   NaN\n",
              "29999  NaN   NaN\n",
              "\n",
              "[30000 rows x 2 columns]"
            ],
            "text/html": [
              "\n",
              "  <div id=\"df-1ab76f4e-a8d4-4ffd-9582-7c30104fce7d\">\n",
              "    <div class=\"colab-df-container\">\n",
              "      <div>\n",
              "<style scoped>\n",
              "    .dataframe tbody tr th:only-of-type {\n",
              "        vertical-align: middle;\n",
              "    }\n",
              "\n",
              "    .dataframe tbody tr th {\n",
              "        vertical-align: top;\n",
              "    }\n",
              "\n",
              "    .dataframe thead th {\n",
              "        text-align: right;\n",
              "    }\n",
              "</style>\n",
              "<table border=\"1\" class=\"dataframe\">\n",
              "  <thead>\n",
              "    <tr style=\"text-align: right;\">\n",
              "      <th></th>\n",
              "      <th>Age</th>\n",
              "      <th>Name</th>\n",
              "    </tr>\n",
              "  </thead>\n",
              "  <tbody>\n",
              "    <tr>\n",
              "      <th>0</th>\n",
              "      <td>NaN</td>\n",
              "      <td>NaN</td>\n",
              "    </tr>\n",
              "    <tr>\n",
              "      <th>1</th>\n",
              "      <td>NaN</td>\n",
              "      <td>NaN</td>\n",
              "    </tr>\n",
              "    <tr>\n",
              "      <th>2</th>\n",
              "      <td>NaN</td>\n",
              "      <td>NaN</td>\n",
              "    </tr>\n",
              "    <tr>\n",
              "      <th>3</th>\n",
              "      <td>NaN</td>\n",
              "      <td>NaN</td>\n",
              "    </tr>\n",
              "    <tr>\n",
              "      <th>4</th>\n",
              "      <td>NaN</td>\n",
              "      <td>NaN</td>\n",
              "    </tr>\n",
              "    <tr>\n",
              "      <th>...</th>\n",
              "      <td>...</td>\n",
              "      <td>...</td>\n",
              "    </tr>\n",
              "    <tr>\n",
              "      <th>29995</th>\n",
              "      <td>NaN</td>\n",
              "      <td>NaN</td>\n",
              "    </tr>\n",
              "    <tr>\n",
              "      <th>29996</th>\n",
              "      <td>NaN</td>\n",
              "      <td>NaN</td>\n",
              "    </tr>\n",
              "    <tr>\n",
              "      <th>29997</th>\n",
              "      <td>NaN</td>\n",
              "      <td>NaN</td>\n",
              "    </tr>\n",
              "    <tr>\n",
              "      <th>29998</th>\n",
              "      <td>NaN</td>\n",
              "      <td>NaN</td>\n",
              "    </tr>\n",
              "    <tr>\n",
              "      <th>29999</th>\n",
              "      <td>NaN</td>\n",
              "      <td>NaN</td>\n",
              "    </tr>\n",
              "  </tbody>\n",
              "</table>\n",
              "<p>30000 rows × 2 columns</p>\n",
              "</div>\n",
              "      <button class=\"colab-df-convert\" onclick=\"convertToInteractive('df-1ab76f4e-a8d4-4ffd-9582-7c30104fce7d')\"\n",
              "              title=\"Convert this dataframe to an interactive table.\"\n",
              "              style=\"display:none;\">\n",
              "        \n",
              "  <svg xmlns=\"http://www.w3.org/2000/svg\" height=\"24px\"viewBox=\"0 0 24 24\"\n",
              "       width=\"24px\">\n",
              "    <path d=\"M0 0h24v24H0V0z\" fill=\"none\"/>\n",
              "    <path d=\"M18.56 5.44l.94 2.06.94-2.06 2.06-.94-2.06-.94-.94-2.06-.94 2.06-2.06.94zm-11 1L8.5 8.5l.94-2.06 2.06-.94-2.06-.94L8.5 2.5l-.94 2.06-2.06.94zm10 10l.94 2.06.94-2.06 2.06-.94-2.06-.94-.94-2.06-.94 2.06-2.06.94z\"/><path d=\"M17.41 7.96l-1.37-1.37c-.4-.4-.92-.59-1.43-.59-.52 0-1.04.2-1.43.59L10.3 9.45l-7.72 7.72c-.78.78-.78 2.05 0 2.83L4 21.41c.39.39.9.59 1.41.59.51 0 1.02-.2 1.41-.59l7.78-7.78 2.81-2.81c.8-.78.8-2.07 0-2.86zM5.41 20L4 18.59l7.72-7.72 1.47 1.35L5.41 20z\"/>\n",
              "  </svg>\n",
              "      </button>\n",
              "      \n",
              "  <style>\n",
              "    .colab-df-container {\n",
              "      display:flex;\n",
              "      flex-wrap:wrap;\n",
              "      gap: 12px;\n",
              "    }\n",
              "\n",
              "    .colab-df-convert {\n",
              "      background-color: #E8F0FE;\n",
              "      border: none;\n",
              "      border-radius: 50%;\n",
              "      cursor: pointer;\n",
              "      display: none;\n",
              "      fill: #1967D2;\n",
              "      height: 32px;\n",
              "      padding: 0 0 0 0;\n",
              "      width: 32px;\n",
              "    }\n",
              "\n",
              "    .colab-df-convert:hover {\n",
              "      background-color: #E2EBFA;\n",
              "      box-shadow: 0px 1px 2px rgba(60, 64, 67, 0.3), 0px 1px 3px 1px rgba(60, 64, 67, 0.15);\n",
              "      fill: #174EA6;\n",
              "    }\n",
              "\n",
              "    [theme=dark] .colab-df-convert {\n",
              "      background-color: #3B4455;\n",
              "      fill: #D2E3FC;\n",
              "    }\n",
              "\n",
              "    [theme=dark] .colab-df-convert:hover {\n",
              "      background-color: #434B5C;\n",
              "      box-shadow: 0px 1px 3px 1px rgba(0, 0, 0, 0.15);\n",
              "      filter: drop-shadow(0px 1px 2px rgba(0, 0, 0, 0.3));\n",
              "      fill: #FFFFFF;\n",
              "    }\n",
              "  </style>\n",
              "\n",
              "      <script>\n",
              "        const buttonEl =\n",
              "          document.querySelector('#df-1ab76f4e-a8d4-4ffd-9582-7c30104fce7d button.colab-df-convert');\n",
              "        buttonEl.style.display =\n",
              "          google.colab.kernel.accessAllowed ? 'block' : 'none';\n",
              "\n",
              "        async function convertToInteractive(key) {\n",
              "          const element = document.querySelector('#df-1ab76f4e-a8d4-4ffd-9582-7c30104fce7d');\n",
              "          const dataTable =\n",
              "            await google.colab.kernel.invokeFunction('convertToInteractive',\n",
              "                                                     [key], {});\n",
              "          if (!dataTable) return;\n",
              "\n",
              "          const docLinkHtml = 'Like what you see? Visit the ' +\n",
              "            '<a target=\"_blank\" href=https://colab.research.google.com/notebooks/data_table.ipynb>data table notebook</a>'\n",
              "            + ' to learn more about interactive tables.';\n",
              "          element.innerHTML = '';\n",
              "          dataTable['output_type'] = 'display_data';\n",
              "          await google.colab.output.renderOutput(dataTable, element);\n",
              "          const docLink = document.createElement('div');\n",
              "          docLink.innerHTML = docLinkHtml;\n",
              "          element.appendChild(docLink);\n",
              "        }\n",
              "      </script>\n",
              "    </div>\n",
              "  </div>\n",
              "  "
            ]
          },
          "metadata": {},
          "execution_count": 17
        }
      ]
    },
    {
      "cell_type": "code",
      "source": [
        "# eliminare una colonna:\n",
        "df = df.drop(['ID'], axis = 1) # axis 0 sono rige 1 sono colonne, specificarlo poiche di default è 0, in questo caso se non specificato eliminerebbe tutti i row con un'info('ID') uguale ad esso di qualsiasi colonna\n"
      ],
      "metadata": {
        "id": "zeCViX0JBEZs"
      },
      "execution_count": null,
      "outputs": []
    },
    {
      "cell_type": "code",
      "source": [
        "# piu colonne:\n",
        "df = df.drop(['Name', 'Ticket', 'Cabin', 'Embarked'], axis = 1)"
      ],
      "metadata": {
        "id": "kWtGAm5RCXxs"
      },
      "execution_count": null,
      "outputs": []
    },
    {
      "cell_type": "code",
      "source": [
        "\n",
        "# eliminare tutti i valori NAN\n",
        "df = df.dropna()\n",
        "\n",
        "#se escono problemi potrebbe aiutare: .reset_index(drop=True)\n"
      ],
      "metadata": {
        "id": "kUKms3FGCdEV"
      },
      "execution_count": null,
      "outputs": []
    },
    {
      "cell_type": "code",
      "source": [
        "# trasformare tutti i dati in numeri di una colonna\n",
        "df['Sex'] = (df['Sex'] == 'male').astype(int) # mette male come 1\n",
        "\n",
        "# se ci fossero piu di 2 tipi da sostituire fare il seguente modo:\n",
        "# creare una sorta di lista di cio che vogliamo sostituire\n",
        "gender_map = {'Male': 1, 'Female': 2, 'Non-binary': 3}\n",
        "\n",
        "# per la sostituzione\n",
        "df['Gender'] = df['Gender'].replace(gender_map)\n",
        "\n",
        "# infine convertire il 'Gender' column a int da str\n",
        "df['Gender'] = df['Gender'].astype(int)"
      ],
      "metadata": {
        "id": "bkp2oBStCdVC"
      },
      "execution_count": null,
      "outputs": []
    },
    {
      "cell_type": "code",
      "source": [
        "\n",
        "# per trasformare data types da object a numeric\n",
        "df[\"Bare Nuclei\"] = pd.to_numeric(df[\"Bare Nuclei\"])"
      ],
      "metadata": {
        "id": "EnLPJNWDCdnt"
      },
      "execution_count": null,
      "outputs": []
    },
    {
      "cell_type": "code",
      "source": [
        "#per fare il tabulate\n",
        "from tabulate import tabulate\n",
        "\n",
        "info = ['Alcohol', 'MA', 'Ash', 'AA', 'Magnesium', 'TP', 'Flavanoids', 'NF', 'PAc', 'CI', 'Hue', 'OD280/OD315', 'Proline']\n",
        "daScoprire = [12.37, 1.07, 2.1, 18.5, 88, 3.52, 3.75, .24, 1.95, 4.5, 1.04, 2.77, 660] \n",
        "print(tabulate([daScoprire], headers=info))"
      ],
      "metadata": {
        "id": "pQL8Tzl0Cd5S"
      },
      "execution_count": null,
      "outputs": []
    },
    {
      "cell_type": "code",
      "source": [
        "\n",
        "# visualizzare il size per ogni classe\n",
        "print(df.groupby('Class').size())\n",
        "\n",
        "# output: \n",
        "# Class\n",
        "# 1    59\n",
        "# 2    71\n",
        "# 3    48\n",
        "\n"
      ],
      "metadata": {
        "id": "aQPYlA8rCeIi"
      },
      "execution_count": null,
      "outputs": []
    },
    {
      "cell_type": "code",
      "source": [
        "# Commented out IPython magic to ensure Python compatibility.\n",
        "# per fare il plot\n",
        "# %matplotlib inline\n",
        "import seaborn as sns\n",
        "import matplotlib.pyplot as plt\n",
        "\n",
        "\n",
        "sns.countplot(x=\"Class\", data=df)\n",
        "plt.title(\"Diabetes Dataset\")\n",
        "plt.xlabel(\"Classes\")\n",
        "plt.ylabel(\"Counts\")\n",
        "plt.show()"
      ],
      "metadata": {
        "id": "s3KXUBEgC1ri"
      },
      "execution_count": null,
      "outputs": []
    },
    {
      "cell_type": "code",
      "source": [
        "# trasformare in numpy per poter essere trattato dalla macchina\n",
        "import numpy as np\n",
        "dfnp = df.to_numpy()"
      ],
      "metadata": {
        "id": "xauAp_NsC7VC"
      },
      "execution_count": null,
      "outputs": []
    },
    {
      "cell_type": "code",
      "source": [
        "# in questo caso i valori indipendenti(x) saranno dalla seconda colonna in poi e il target(y) sono tutti i row della prima colonna\n",
        "x=dfnp[:,1:]\n",
        "y=dfnp[:,0]\n",
        "\n"
      ],
      "metadata": {
        "id": "A7uzlZgvC9NL"
      },
      "execution_count": null,
      "outputs": []
    },
    {
      "cell_type": "code",
      "source": [
        "# i valori indipendenti(x) saranno tutti i row dalla prima alla penultima colonna, mentre valori target(y) idem ma soltanto dell'ultima colonna\n",
        "x=dfnumpy[:,:-1]\n",
        "y=dfnumpy[:,-1] "
      ],
      "metadata": {
        "id": "nHDL0DmODIa6"
      },
      "execution_count": null,
      "outputs": []
    },
    {
      "cell_type": "code",
      "source": [
        "###\n",
        "\n",
        "# per visualizzare i primi valori\n",
        "print(f'x = {x[:10]}')\n",
        "print(f'y = {y[:10]}')"
      ],
      "metadata": {
        "id": "erqjwLRTDKB9"
      },
      "execution_count": null,
      "outputs": []
    },
    {
      "cell_type": "code",
      "source": [
        "# per togliere la dotazione scientifica e facilitare la lettura dei dati\n",
        "np.set_printoptions(suppress=True)"
      ],
      "metadata": {
        "id": "CQhHcynODKUt"
      },
      "execution_count": null,
      "outputs": []
    },
    {
      "cell_type": "code",
      "source": [],
      "metadata": {
        "id": "jMHm7KiJDWRD"
      },
      "execution_count": null,
      "outputs": []
    },
    {
      "cell_type": "code",
      "source": [
        "# per contare il numero di classi e quante ne contiene, es: Counter({1.0: 59, 2.0: 71, 3.0: 48})\n",
        "import collections\n",
        "collections.Counter(y)"
      ],
      "metadata": {
        "id": "yiL5OGM5DWpD"
      },
      "execution_count": null,
      "outputs": []
    },
    {
      "cell_type": "code",
      "source": [
        "# suddivisione dei dati per l'allenamento della macchina per il test di controllo dell'efficacita\n",
        "from sklearn.model_selection import train_test_split\n",
        "\n",
        "X_train, X_test, y_train, y_test = train_test_split(x, y, \n",
        "                                                    test_size = 0.30, # by default is 75%-25%\n",
        "                                                    # shuffle is set True by default,\n",
        "                                                    stratify = y, # per mantenere le proporzioni che ci sono nei dati di partenza\n",
        "                                                    random_state = 123) # fix random seed for replicability\n"
      ],
      "metadata": {
        "id": "s2wAGCVEDeNX"
      },
      "execution_count": null,
      "outputs": []
    },
    {
      "cell_type": "code",
      "source": [
        "# importiamo il metodo di classificazione K-NN\n",
        "from sklearn.neighbors import KNeighborsClassifier\n",
        "\n",
        "neighbors = KNeighborsClassifier(n_neighbors=5)"
      ],
      "metadata": {
        "id": "9XwCwtP5DhGl"
      },
      "execution_count": null,
      "outputs": []
    },
    {
      "cell_type": "code",
      "source": [
        "# allenamento\n",
        "neighbors.fit(X_train,y_train)\n",
        "# previsione\n",
        "predict = neighbors.predict(X_test)\n",
        "\n",
        "print(f'dati predetti dal metodo =                {predict[:10]}') # dati predetti che potrebbero essere sbagliati\n",
        "print(f'dati reali presenti nel dataset di test = {y_test[:10]}') # dati reali presi dal test"
      ],
      "metadata": {
        "id": "w3LgxKaZDnPL"
      },
      "execution_count": null,
      "outputs": []
    },
    {
      "cell_type": "code",
      "source": [
        "!pip install mlxtend\n"
      ],
      "metadata": {
        "id": "mEBmslx3DrLK"
      },
      "execution_count": null,
      "outputs": []
    },
    {
      "cell_type": "code",
      "source": [
        "# valutiamo il nostro metodo:\n",
        "from mlxtend.plotting import plot_confusion_matrix\n",
        "from matplotlib import pyplot as plt\n",
        "from sklearn.metrics import confusion_matrix, classification_report\n",
        "# visualizziamo la confusion matrix\n",
        "plot_confusion_matrix(confusion_matrix(y_test, predict), cmap=plt.cm.Reds)\n",
        "plt.show()"
      ],
      "metadata": {
        "id": "GXePXxntD0ZD"
      },
      "execution_count": null,
      "outputs": []
    },
    {
      "cell_type": "code",
      "source": [
        "# visualizziamo adesso gli indicatori e la precisione guardando f1-score, piu alto piu accurato \n",
        "print(classification_report(y_test, predict))"
      ],
      "metadata": {
        "id": "61uZxCoiD3ii"
      },
      "execution_count": null,
      "outputs": []
    },
    {
      "cell_type": "markdown",
      "source": [
        "# Esempio per trovare il K migliore facendo il confronto con accuracy nel **classification_report**\n"
      ],
      "metadata": {
        "id": "Qd7--HKOEDOl"
      }
    },
    {
      "cell_type": "code",
      "source": [
        "import seaborn as sns\n",
        "import matplotlib.pyplot as plt"
      ],
      "metadata": {
        "id": "Fh0B-86cD7d7"
      },
      "execution_count": null,
      "outputs": []
    },
    {
      "cell_type": "code",
      "source": [
        "# creare una lista nel quale verra salvato lo score dell'accuratezza di k\n",
        "accuracy = []\n",
        "# Will take some time\n",
        "from sklearn import metrics\n",
        "# scrivere un for loop che cambi k da 1 a 40\n",
        "for k in range(1,41):\n",
        "    neigh = KNeighborsClassifier(n_neighbors = k).fit(X_train,y_train)\n",
        "    prediction = neigh.predict(X_test)\n",
        "    accuracy.append(metrics.accuracy_score(y_test, prediction))"
      ],
      "metadata": {
        "id": "pM62NXRVEMYT"
      },
      "execution_count": null,
      "outputs": []
    },
    {
      "cell_type": "code",
      "source": [
        "# plot\n",
        "plt.figure(figsize=(10,6))\n",
        "plt.plot(range(1,40),accuracy,color = 'blue',linestyle='dashed', \n",
        "         marker='o',markerfacecolor='red', markersize=10)\n",
        "plt.title('accuracy vs. K Value')\n",
        "plt.xlabel('K')\n",
        "plt.ylabel('Accuracy')\n",
        "print(\"Maximum accuracy:-\",max(accuracy),\"at K =\",accuracy.index(max(accuracy)) + 1 ) # + 1 perche l'index parte da 0\n"
      ],
      "metadata": {
        "id": "pGfj7z-DEX5b"
      },
      "execution_count": null,
      "outputs": []
    },
    {
      "cell_type": "markdown",
      "source": [
        "# **Esempio per trovare il K migliore facendo il confronto con weighted_avg nel classification_report**"
      ],
      "metadata": {
        "id": "k1CfOV1_Ec2_"
      }
    },
    {
      "cell_type": "code",
      "source": [
        "from sklearn.metrics import f1_score"
      ],
      "metadata": {
        "id": "dn3bNrp4EbCv"
      },
      "execution_count": null,
      "outputs": []
    },
    {
      "cell_type": "code",
      "source": [
        "# creare una lista nel quale verra salvato lo score del weighted_avg di k\n",
        "f1s_weighted_avg = []\n",
        "\n",
        "# Calculating f1 score for K values between 1 and 40\n",
        "for i in range(1, 41):\n",
        "    knn = KNeighborsClassifier(n_neighbors=i)\n",
        "    knn.fit(X_train, y_train)\n",
        "    pred_i = knn.predict(X_test)\n",
        "    # using average='weighted' to calculate a weighted average for the 4 classes \n",
        "    f1s_weighted_avg.append(f1_score(y_test, pred_i, average='weighted'))"
      ],
      "metadata": {
        "id": "SLlRIQv0En8l"
      },
      "execution_count": null,
      "outputs": []
    },
    {
      "cell_type": "code",
      "source": [
        "#plot\n",
        "plt.figure(figsize=(12, 6))\n",
        "plt.plot(range(1, 41), f1s_weighted_avg, color='red', linestyle='dashed', marker='o',\n",
        "         markerfacecolor='blue', markersize=10)\n",
        "plt.title('F1 Score K Value')\n",
        "plt.xlabel('K Value')\n",
        "plt.ylabel('F1 Score')\n",
        "print(\"Maximum accuracy:-\",max(f1s_weighted_avg),\"at K =\",f1s_weighted_avg.index(max(f1s_weighted_avg)) + 1) # + 1 perche l'index parte da 0"
      ],
      "metadata": {
        "id": "QmAjCyJ-JGvC"
      },
      "execution_count": null,
      "outputs": []
    },
    {
      "cell_type": "markdown",
      "source": [
        "# **Esempio per trovare il K migliore facendo il confronto con macro_avg nel classification_report**"
      ],
      "metadata": {
        "id": "uNCdQZHTJJd3"
      }
    },
    {
      "cell_type": "code",
      "source": [
        "# stesso codice di prima ma con un piccolo ritocco:\n",
        "    f1s_weighted_avg.append(f1_score(y_test, pred_i, average='weighted')) \n",
        "# average='weighted' a posto di weighted immettere macro"
      ],
      "metadata": {
        "id": "kLb4a6IKJRoS"
      },
      "execution_count": null,
      "outputs": []
    },
    {
      "cell_type": "markdown",
      "source": [
        "# **decision tree**"
      ],
      "metadata": {
        "id": "y1Eh3elhJbgL"
      }
    },
    {
      "cell_type": "code",
      "source": [
        "from sklearn import tree\n",
        "\n",
        "tree_clf = tree.DecisionTreeClassifier(criterion=\"gini\", # criteri per stabilire come splittare\n",
        "                                       max_depth=4, # profondità dell'albero per evitare l'overfitting\n",
        "                                       min_samples_split=30, # dimensione minima del sottogruppo a cui fermarsi (no more split)\n",
        "                                       max_leaf_nodes=6, # numero dei nodi foglia\n",
        "                                       min_samples_leaf=4 # numero di campioni per essere una foglia\n",
        "                                      )"
      ],
      "metadata": {
        "id": "nUlAePdaJgKM"
      },
      "execution_count": null,
      "outputs": []
    },
    {
      "cell_type": "code",
      "source": [
        "#allenamento\n",
        "tree_clf.fit(X_train,y_train)"
      ],
      "metadata": {
        "id": "LKD-G4hhJgmA"
      },
      "execution_count": null,
      "outputs": []
    },
    {
      "cell_type": "code",
      "source": [
        "# predizione\n",
        "predict_dectree = tree_clf.predict(X_test)"
      ],
      "metadata": {
        "id": "eDYPpR0RJhrA"
      },
      "execution_count": null,
      "outputs": []
    },
    {
      "cell_type": "code",
      "source": [
        "# visualizziamo il risultato (solo i primi dieci)\n",
        "print(f'dati predetti dal metodo decision tree =  {predict_dectree[:10]}') # dati predetti dal metodo\n",
        "print(f'dati reali presenti nel dataset di test = {y_test[:10]}') # dati effettivi presenti nel test set\n"
      ],
      "metadata": {
        "id": "ilRQBEYEJiBq"
      },
      "execution_count": null,
      "outputs": []
    },
    {
      "cell_type": "code",
      "source": [
        "# valutiamo il nostro metodo:\n",
        "from mlxtend.plotting import plot_confusion_matrix\n",
        "from matplotlib import pyplot as plt\n",
        "from sklearn.metrics import confusion_matrix, classification_report\n",
        "# visualizziamo la confusion matrix\n",
        "plot_confusion_matrix(confusion_matrix(y_test, predict_dectree), cmap=plt.cm.Reds)# cmap=plt.cm.Reds solo per il colore\n",
        "plt.show()\n",
        "\n",
        "print(classification_report(y_test, predict_dectree))"
      ],
      "metadata": {
        "id": "g32IfGs0JiRq"
      },
      "execution_count": null,
      "outputs": []
    },
    {
      "cell_type": "markdown",
      "source": [
        "# **Esempio per trovare il depth migliore facendo il confronto con accuracy nel classification_report** **bold text**"
      ],
      "metadata": {
        "id": "m8wIoO79J0ID"
      }
    },
    {
      "cell_type": "code",
      "source": [
        "\n",
        "# creare una lista nel quale verra salvato lo score dell'accuratezza di k\n",
        "accuracy = []\n",
        "\n",
        "# Will take some time\n",
        "from sklearn import metrics\n",
        "for depth in range(1,40):\n",
        "  tree_clf = tree.DecisionTreeClassifier(criterion=\"gini\", # criteri per stabilire come splittare\n",
        "                                       max_depth=depth, # profondità dell'albero per evitare l'overfitting\n",
        "                                       min_samples_split=30, # dimensione minima del sottogruppo a cui fermarsi (no more split)\n",
        "                                       max_leaf_nodes=6, # numero dei nodi foglia\n",
        "                                       min_samples_leaf=4 # numero di campioni per essere una foglia\n",
        "                                      )"
      ],
      "metadata": {
        "id": "Hw1-YyJEJiaz"
      },
      "execution_count": null,
      "outputs": []
    },
    {
      "cell_type": "code",
      "source": [
        "  # prima parte: dobbiamo fare in modo che il metodo impari dalle informazioni a disposizione\n",
        "  tree_clf.fit(X_train,y_train)"
      ],
      "metadata": {
        "id": "QOwDwc9SJigp"
      },
      "execution_count": null,
      "outputs": []
    },
    {
      "cell_type": "code",
      "source": [
        " # seconda parte: vediamo se il metodo ha imparato bene facendogli prevedere i risultati \n",
        "  predict_dt = tree_clf.predict(X_test)\n",
        "  accuracy.append(metrics.accuracy_score(y_test, predict_dt))"
      ],
      "metadata": {
        "id": "SDZHCdFwKEd4"
      },
      "execution_count": null,
      "outputs": []
    },
    {
      "cell_type": "code",
      "source": [
        "#plot\n",
        "plt.figure(figsize=(10,6))\n",
        "plt.plot(range(1,40),accuracy,color = 'blue',linestyle='dashed', \n",
        "         marker='o',markerfacecolor='red', markersize=10)\n",
        "plt.title('accuracy vs. K Value')\n",
        "plt.xlabel('K')\n",
        "plt.ylabel('Accuracy')\n",
        "print(\"Maximum accuracy:-\",max(accuracy),\"at K =\",accuracy.index(max(accuracy)) + 1 ) # + 1 perche l'index parte da 0"
      ],
      "metadata": {
        "id": "KVdiRVKAKHC-"
      },
      "execution_count": null,
      "outputs": []
    },
    {
      "cell_type": "markdown",
      "source": [
        "# **Esempio per trovare il depth migliore facendo il confronto con weighted_avg nel classification_report**"
      ],
      "metadata": {
        "id": "8ZJApeFCKLGU"
      }
    },
    {
      "cell_type": "code",
      "source": [
        "from sklearn.metrics import f1_score\n",
        "\n",
        "# invece di:\n",
        "accuracy = []\n",
        "accuracy.append(metrics.accuracy_score(y_test, predict_dt))\n",
        "# diventa:\n",
        "f1s = []\n",
        "f1s.append(f1_score(y_test, predict_dt, average='weighted'))"
      ],
      "metadata": {
        "id": "w15fluz9KS3Z"
      },
      "execution_count": null,
      "outputs": []
    },
    {
      "cell_type": "markdown",
      "source": [
        "# **Esempio per trovare il depth migliore facendo il confronto con macro_avg nel classification_report**"
      ],
      "metadata": {
        "id": "pJWQMrK1KU8q"
      }
    },
    {
      "cell_type": "code",
      "source": [
        "from sklearn.metrics import f1_score\n",
        "f1s.append(f1_score(y_test, predict_dt, average='macro'))"
      ],
      "metadata": {
        "id": "389Yq-bdKe5_"
      },
      "execution_count": null,
      "outputs": []
    },
    {
      "cell_type": "markdown",
      "source": [
        "# **grafico conda**"
      ],
      "metadata": {
        "id": "wPW2fjQoKeRq"
      }
    },
    {
      "cell_type": "code",
      "source": [
        "# to be run only once, code for the installation of a new library and the related software\n",
        "!conda update --force conda\n",
        "!conda install graphviz\n",
        "!conda install python-graphviz\n",
        "\n",
        "#to be run every time. Tells your computer where to look for graphviz\n",
        "import os\n",
        "os.environ[\"PATH\"] += os.pathsep + 'C:\\\\Users\\\\wtitz\\\\Anaconda3\\\\Library\\\\bin\\\\graphviz'\n",
        "\n",
        "features=list(df.columns.values) # (sono i nomi delle colonne del dataset)\n",
        "features.remove('Class')\n",
        "print(features)"
      ],
      "metadata": {
        "id": "LIuIlorsKiOz"
      },
      "execution_count": null,
      "outputs": []
    },
    {
      "cell_type": "code",
      "source": [
        "import graphviz\n",
        "dot_data = tree.export_graphviz(tree_clf, out_file=None, \n",
        "                     feature_names=features,  \n",
        "                     class_names=['0','1','2'], # !!!!!!!!!! questo dipende da quanti classi ci sono, o tipi di target?, esempio nel wine ci sono 3 classi per questo cosi, se ci fossero 2 classi sara: class_names=['0','1']\n",
        "                     filled=True, rounded=True,  \n",
        "                     special_characters=True)  \n",
        "graph = graphviz.Source(dot_data)\n",
        "graph.render('Wines')\n",
        "graph"
      ],
      "metadata": {
        "id": "U7lnZDsMKr9C"
      },
      "execution_count": null,
      "outputs": []
    }
  ]
}